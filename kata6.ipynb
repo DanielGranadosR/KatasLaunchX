{
 "cells": [
  {
   "cell_type": "markdown",
   "metadata": {},
   "source": [
    "# Usar listas para almacenar nombres de Planetas\n"
   ]
  },
  {
   "cell_type": "code",
   "execution_count": 17,
   "metadata": {},
   "outputs": [
    {
     "name": "stdout",
     "output_type": "stream",
     "text": [
      "La cantidad de planetas registrados es 8\n",
      "La cantidad de planetas registrados es 9, el último planeta registrado es Plutón\n"
     ]
    }
   ],
   "source": [
    "planets=[\"Mercurio\",\"Venus\",\"Tierra\",\"Marte\",\"Júpiter\",\"Saturno\",\"Urano\",\"Neptuno\"]\n",
    "print(f\"La cantidad de planetas registrados es {len(planets)}\")\n",
    "planets.append(\"Plutón\")\n",
    "print(f\"La cantidad de planetas registrados es {len(planets)}, el último planeta registrado es {planets[-1]}\")"
   ]
  },
  {
   "cell_type": "markdown",
   "metadata": {},
   "source": [
    "# Usar slices para recuperar partes de una lista"
   ]
  },
  {
   "cell_type": "code",
   "execution_count": 14,
   "metadata": {},
   "outputs": [
    {
     "name": "stdout",
     "output_type": "stream",
     "text": [
      "Los planetas más cercanos al sol desde Saturno son: ['Mercurio', 'Venus', 'Tierra', 'Marte', 'Júpiter']\n",
      "Los planetas más lejanos al sol desde Saturno son ['Neptune']\n"
     ]
    }
   ],
   "source": [
    "planets = ['Mercurio', 'Venus', 'Tierra', 'Marte', 'Júpiter', 'Saturno', 'Neptuno']\n",
    "planeta_u=input(\"Introduce el nombre de un planeta (Empieza el nombre con una letra mayúscula, ej: Marte) \")\n",
    "\n",
    "indice=planets.index(planeta_u)\n",
    "\n",
    "\n",
    "print(f\"Los planetas más cercanos al sol desde {planeta_u} son: {planets[0:indice]}\")\n",
    "print(f\"Los planetas más lejanos al sol desde {planeta_u} son {planets[indice + 1:]}\" )    "
   ]
  }
 ],
 "metadata": {
  "interpreter": {
   "hash": "c5553a001040f8bcb562f5c687bc7b5a37fd6953358db4ec0f6758517e32e4a5"
  },
  "kernelspec": {
   "display_name": "Python 3.10.2 64-bit",
   "language": "python",
   "name": "python3"
  },
  "language_info": {
   "codemirror_mode": {
    "name": "ipython",
    "version": 3
   },
   "file_extension": ".py",
   "mimetype": "text/x-python",
   "name": "python",
   "nbconvert_exporter": "python",
   "pygments_lexer": "ipython3",
   "version": "3.10.2"
  },
  "orig_nbformat": 4
 },
 "nbformat": 4,
 "nbformat_minor": 2
}
