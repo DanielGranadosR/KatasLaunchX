{
 "cells": [
  {
   "cell_type": "markdown",
   "metadata": {},
   "source": [
    "# Trabajar con argumentos en funciones"
   ]
  },
  {
   "cell_type": "code",
   "execution_count": 2,
   "metadata": {},
   "outputs": [
    {
     "name": "stdout",
     "output_type": "stream",
     "text": [
      "Reporte de cobustible:\n",
      "    Promedio de Combustible: 78.33333333333333\n",
      "    Tanque 1: 80\n",
      "    Tanque 2: 70\n",
      "    Tanque 3: 85\n"
     ]
    }
   ],
   "source": [
    "def lecturas(combustible1,combustible2,combustible3):\n",
    "    promedio=(combustible1+combustible2+combustible3)/3\n",
    "    return f\"\"\"Reporte de cobustible:\n",
    "    Promedio de Combustible: {promedio}\n",
    "    Tanque 1: {combustible1}\n",
    "    Tanque 2: {combustible2}\n",
    "    Tanque 3: {combustible3}\"\"\"\n",
    "    \n",
    "print(lecturas(80,70,85))"
   ]
  },
  {
   "cell_type": "code",
   "execution_count": 6,
   "metadata": {},
   "outputs": [
    {
     "name": "stdout",
     "output_type": "stream",
     "text": [
      "Reporte de Combuestible\n",
      "    _____________________________________________\n",
      "    PROMEDIO DE COMBUSTIBLE EN LOS TANQUES: 78.33333333333333\n",
      "    TANQUE 1: 80\n",
      "    TANQUE 2: 70\n",
      "    TANQUE 3: 85\n",
      "\n",
      "\n"
     ]
    }
   ],
   "source": [
    "def promedio(tanques):\n",
    "    total=sum(tanques)\n",
    "    elementos=len(tanques)\n",
    "    return total/elementos\n",
    "\n",
    "def reporte2(tanque1,tanque2,tanque3):\n",
    "    return f\"\"\"Reporte de Combuestible\n",
    "    _____________________________________________\n",
    "    PROMEDIO DE COMBUSTIBLE EN LOS TANQUES: {promedio([tanque1,tanque2,tanque3])}\n",
    "    TANQUE 1: {tanque1}\n",
    "    TANQUE 2: {tanque2}\n",
    "    TANQUE 3: {tanque3}\n",
    "\n",
    "\"\"\"\n",
    "\n",
    "print(reporte2(80,70,85))"
   ]
  },
  {
   "cell_type": "markdown",
   "metadata": {},
   "source": [
    "# Argumentos de Palabra Clave"
   ]
  },
  {
   "cell_type": "code",
   "execution_count": 12,
   "metadata": {},
   "outputs": [
    {
     "name": "stdout",
     "output_type": "stream",
     "text": [
      "\n",
      "    Mission to Moon\n",
      "    Total travel time: 25 minutos\n",
      "    Total fuel left: 500000\n",
      "    \n"
     ]
    }
   ],
   "source": [
    "def mr2(destino, *minutos, **combustible):\n",
    "    return f\"\"\"\n",
    "    Mission to {destino}\n",
    "    Total travel time: {sum(minutos)} minutos\n",
    "    Total fuel left: {sum(combustible.values())}\n",
    "    \"\"\"\n",
    "\n",
    "print(mr2(\"Moon\", 10, 15, principal=300000, externo=200000))\n",
    "\n"
   ]
  },
  {
   "cell_type": "code",
   "execution_count": 17,
   "metadata": {},
   "outputs": [
    {
     "name": "stdout",
     "output_type": "stream",
     "text": [
      "\n",
      "    Missión a: Moon\n",
      "    Tiempo: 74 minutos\n",
      "    Combustible restante: 500000\n",
      "    Tanque principal  --> 300000 litros restantes\n",
      "Tanque externo  --> 200000 litros restantes\n",
      "\n"
     ]
    }
   ],
   "source": [
    "def mr2(destino, *minutos, **combustible):\n",
    "    reporte = f\"\"\"\n",
    "    Missión a: {destino}\n",
    "    Tiempo: {sum(minutos)} minutos\n",
    "    Combustible restante: {sum(combustible.values())}\n",
    "    \"\"\"\n",
    "    for nombre, litros in combustible.items():\n",
    "        reporte += f\"Tanque {nombre}  --> {litros} litros restantes\\n\"\n",
    "    return reporte\n",
    "\n",
    "print(mr2(\"Moon\", 8, 11, 55, principal=300000, externo=200000))"
   ]
  }
 ],
 "metadata": {
  "interpreter": {
   "hash": "c5553a001040f8bcb562f5c687bc7b5a37fd6953358db4ec0f6758517e32e4a5"
  },
  "kernelspec": {
   "display_name": "Python 3.10.2 64-bit",
   "language": "python",
   "name": "python3"
  },
  "language_info": {
   "codemirror_mode": {
    "name": "ipython",
    "version": 3
   },
   "file_extension": ".py",
   "mimetype": "text/x-python",
   "name": "python",
   "nbconvert_exporter": "python",
   "pygments_lexer": "ipython3",
   "version": "3.10.2"
  },
  "orig_nbformat": 4
 },
 "nbformat": 4,
 "nbformat_minor": 2
}
