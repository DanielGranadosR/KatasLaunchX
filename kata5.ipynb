{
 "cells": [
  {
   "cell_type": "markdown",
   "metadata": {},
   "source": [
    "# Distancia Entre 2 Planetas\n",
    "Operadores aritméticos en Python"
   ]
  },
  {
   "cell_type": "code",
   "execution_count": 4,
   "metadata": {},
   "outputs": [
    {
     "name": "stdout",
     "output_type": "stream",
     "text": [
      "La distancia entre la Tierra y Júpiter es: 628949330\n",
      "La distancia entre la Tierra y Júpiter, expresada en millas es: 390577534\n"
     ]
    }
   ],
   "source": [
    "planeta1= 149597870\n",
    "planeta2= 778547200\n",
    "\n",
    "resultado=abs(planeta1-planeta2)\n",
    "millas=round(resultado*0.621)\n",
    "\n",
    "print (f'La distancia entre la Tierra y Júpiter es: {resultado}')\n",
    "print (f'La distancia entre la Tierra y Júpiter, expresada en millas es: {millas}')"
   ]
  },
  {
   "cell_type": "markdown",
   "metadata": {},
   "source": [
    "# Ejercicio 2\n",
    "Convierte cadenas en números y usa valores absolutos"
   ]
  },
  {
   "cell_type": "code",
   "execution_count": 5,
   "metadata": {},
   "outputs": [
    {
     "name": "stdout",
     "output_type": "stream",
     "text": [
      "La distancia entre el planeta 1 y el planeta 2 es: 50300000\n",
      "La distancia entre el planeta 1 y el planeta 2, expresada en millas es: 31236300\n"
     ]
    }
   ],
   "source": [
    "planeta1=int(input(\"Introduce la distancia en KM del primer planeta con respecto al sol: \"))\n",
    "planeta2=int(input(\"Introduce la distancia en KM del segundo planeta con respecto al sol: \"))\n",
    "\n",
    "resultado=abs(planeta1-planeta2)\n",
    "millas=round(resultado*0.621)\n",
    "\n",
    "print (f'La distancia entre el planeta 1 y el planeta 2 es: {resultado}')\n",
    "print (f'La distancia entre el planeta 1 y el planeta 2, expresada en millas es: {millas}')\n"
   ]
  }
 ],
 "metadata": {
  "interpreter": {
   "hash": "c5553a001040f8bcb562f5c687bc7b5a37fd6953358db4ec0f6758517e32e4a5"
  },
  "kernelspec": {
   "display_name": "Python 3.10.2 64-bit",
   "language": "python",
   "name": "python3"
  },
  "language_info": {
   "codemirror_mode": {
    "name": "ipython",
    "version": 3
   },
   "file_extension": ".py",
   "mimetype": "text/x-python",
   "name": "python",
   "nbconvert_exporter": "python",
   "pygments_lexer": "ipython3",
   "version": "3.10.2"
  },
  "orig_nbformat": 4
 },
 "nbformat": 4,
 "nbformat_minor": 2
}
