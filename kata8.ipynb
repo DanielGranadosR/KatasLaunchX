{
 "cells": [
  {
   "cell_type": "markdown",
   "metadata": {},
   "source": [
    "# Crear y modificar un diccionario de Python"
   ]
  },
  {
   "cell_type": "code",
   "execution_count": 6,
   "metadata": {},
   "outputs": [
    {
     "name": "stdout",
     "output_type": "stream",
     "text": [
      "El planeta mars tiene 2 lunas\n",
      "El planeta mars tiene una circunferencia polar de 6752 kms\n"
     ]
    }
   ],
   "source": [
    "planet = {\n",
    "    \"name\":\"mars\",\n",
    "    \"moons\":2   \n",
    "}\n",
    "\n",
    "print(f'El planeta {planet[\"name\"]} tiene {planet[\"moons\"]} lunas')\n",
    "\n",
    "\n",
    "planet[\"circunferencia(km)\"]={\n",
    "\"polar\":6752,\n",
    "\"equatorial\":6782}\n",
    "\n",
    "\n",
    "print(f'El planeta {planet[\"name\"]} tiene una circunferencia polar de {planet[\"circunferencia(km)\"][\"polar\"]} kms')\n"
   ]
  },
  {
   "cell_type": "markdown",
   "metadata": {},
   "source": [
    "# Cálculo de Valores\n"
   ]
  },
  {
   "cell_type": "code",
   "execution_count": 14,
   "metadata": {},
   "outputs": [
    {
     "name": "stdout",
     "output_type": "stream",
     "text": [
      "La cantidad de lunas que hay en el sistema solar es 214 y en promedio hay 17.833333333333332 de lunas en el sistema solar\n"
     ]
    }
   ],
   "source": [
    "planet_moons = {\n",
    "    'mercury': 0,\n",
    "    'venus': 0,\n",
    "    'earth': 1,\n",
    "    'mars': 2,\n",
    "    'jupiter': 79,\n",
    "    'saturn': 82,\n",
    "    'uranus': 27,\n",
    "    'neptune': 14,\n",
    "    'pluto': 5,\n",
    "    'haumea': 2,\n",
    "    'makemake': 1,\n",
    "    'eris': 1\n",
    "}\n",
    "\n",
    "\n",
    "moons=planet_moons.values()\n",
    "planets=len(planet_moons.keys())\n",
    "\n",
    "total_moons=0\n",
    "for i in moons:\n",
    "    total_moons += i\n",
    "\n",
    "promedio=total_moons/planets\n",
    "\n",
    "print(f\"La cantidad de lunas que hay en el sistema solar es {total_moons} y en promedio hay {promedio} de lunas en el sistema solar\")\n",
    "    \n",
    "\n",
    "    \n",
    "\n"
   ]
  }
 ],
 "metadata": {
  "interpreter": {
   "hash": "c5553a001040f8bcb562f5c687bc7b5a37fd6953358db4ec0f6758517e32e4a5"
  },
  "kernelspec": {
   "display_name": "Python 3.10.2 64-bit",
   "language": "python",
   "name": "python3"
  },
  "language_info": {
   "codemirror_mode": {
    "name": "ipython",
    "version": 3
   },
   "file_extension": ".py",
   "mimetype": "text/x-python",
   "name": "python",
   "nbconvert_exporter": "python",
   "pygments_lexer": "ipython3",
   "version": "3.10.2"
  },
  "orig_nbformat": 4
 },
 "nbformat": 4,
 "nbformat_minor": 2
}
